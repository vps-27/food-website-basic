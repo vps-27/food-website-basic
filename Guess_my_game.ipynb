{
  "nbformat": 4,
  "nbformat_minor": 0,
  "metadata": {
    "colab": {
      "provenance": [],
      "authorship_tag": "ABX9TyPP7Mlj6zveUQ1s9j3BX8GQ",
      "include_colab_link": true
    },
    "kernelspec": {
      "name": "python3",
      "display_name": "Python 3"
    },
    "language_info": {
      "name": "python"
    }
  },
  "cells": [
    {
      "cell_type": "markdown",
      "metadata": {
        "id": "view-in-github",
        "colab_type": "text"
      },
      "source": [
        "<a href=\"https://colab.research.google.com/github/vps-27/food-website-basic/blob/main/Guess_my_game.ipynb\" target=\"_parent\"><img src=\"https://colab.research.google.com/assets/colab-badge.svg\" alt=\"Open In Colab\"/></a>"
      ]
    },
    {
      "cell_type": "code",
      "execution_count": 2,
      "metadata": {
        "colab": {
          "base_uri": "https://localhost:8080/"
        },
        "id": "sk50ss0vhAUp",
        "outputId": "2dba39e1-9078-4edd-8db0-f498bdb851fe"
      },
      "outputs": [
        {
          "output_type": "stream",
          "name": "stdout",
          "text": [
            "WELCOME TO GUESS MY NUMBER GAME!!\n",
            "PLEASE ENTER ANY NUMBER BETWEEN 1 TO 10:2\n",
            "PLEASE ENTER ANY NUMBER BETWEEN 1 TO 10:3\n",
            "PLEASE ENTER ANY NUMBER BETWEEN 1 TO 10:1\n",
            "PLEASE ENTER ANY NUMBER BETWEEN 1 TO 10:4\n",
            "PLEASE ENTER ANY NUMBER BETWEEN 1 TO 10:5\n",
            "PLEASE ENTER ANY NUMBER BETWEEN 1 TO 10:6\n",
            "PLEASE ENTER ANY NUMBER BETWEEN 1 TO 10:7\n",
            " CONGRATS🎊,YOU GUESSED IT RIGHT!!\n"
          ]
        }
      ],
      "source": [
        "import random\n",
        "print(\"WELCOME TO GUESS MY NUMBER GAME!!\")\n",
        "random_number = random.randint(1,10)\n",
        "player_number = 0\n",
        "\n",
        "while player_number != random_number:\n",
        "  player_number = int(input(\"PLEASE ENTER ANY NUMBER BETWEEN 1 TO 10:\"))\n",
        "\n",
        "print(\" CONGRATS🎊,YOU GUESSED IT RIGHT!!\")"
      ]
    }
  ]
}